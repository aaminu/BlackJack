{
 "cells": [
  {
   "cell_type": "markdown",
   "metadata": {},
   "source": [
    "###  Black Jack"
   ]
  },
  {
   "cell_type": "markdown",
   "metadata": {},
   "source": [
    "This notebook is used as an active development space to write the sourcecode to .py files for the blackjack game and also for testing. This game is a project from the Python Boothcamp I enrolled in. If you are interessed in learning python, click <a href=\"https://www.udemy.com/share/101W94A0ETcFxbTXo=/\">here</a>"
   ]
  },
  {
   "cell_type": "code",
   "execution_count": 94,
   "metadata": {},
   "outputs": [
    {
     "name": "stdout",
     "output_type": "stream",
     "text": [
      "Overwriting Blackjack.py\n"
     ]
    }
   ],
   "source": [
    "%%writefile Blackjack.py\n",
    "\n",
    "import random\n",
    "\n",
    "\n",
    "suits = ('Daimonds', 'Hearts', 'Spades', 'Clubs')\n",
    "orders = ('Two', 'Three', 'Four', 'Five', 'Six', 'Seven', 'Eight', 'Nine', 'Ten', 'Jack', \n",
    "         'Queen', 'King', 'Ace')\n",
    "values = {'Two':2, 'Three':3, 'Four':4, 'Five':5, 'Six':6, 'Seven':7, 'Eight':8, 'Nine':9,\n",
    "          'Ten':10, 'Jack':10, 'Queen':10, 'King':10, 'Ace':11}\n",
    "\n",
    "\n",
    "class Card:\n",
    "    \"\"\"Individual card class\"\"\"\n",
    "    \n",
    "    def __init__(self, suit, order):\n",
    "        self.suit = suit\n",
    "        self.order = order\n",
    "        \n",
    "    def __str__(self):\n",
    "        return f'{self.order} of {self.suit}'\n",
    "\n",
    "    \n",
    "class DeckofCards:\n",
    "    \"\"\"Creates a deck of class\"\"\"\n",
    "    \n",
    "    def __init__(self):\n",
    "        self.deck = []\n",
    "        for suit in suits:\n",
    "            for order in orders:\n",
    "                self.deck.append(Card(suit, order)) #class Card class to creat a card object in the Deck\n",
    "                \n",
    "    def shuffle(self):\n",
    "        \"Randomly reshuffles deck\"\n",
    "        random.shuffle(self.deck)\n",
    "        \n",
    "    def deal(self):\n",
    "        \"pops a card from the back\"\n",
    "        deal_card = self.deck.pop()\n",
    "        return deal_card\n",
    "    \n",
    "    def __str__(self):\n",
    "        dck = ''\n",
    "        for crd in self.deck:\n",
    "            dck += '\\n'+crd.__str__()\n",
    "        return f'Available Cards in deck: {dck}'\n",
    "    \n",
    "    def __len__(self):\n",
    "        return len(self.deck)"
   ]
  },
  {
   "cell_type": "markdown",
   "metadata": {},
   "source": [
    "Test"
   ]
  },
  {
   "cell_type": "code",
   "execution_count": 95,
   "metadata": {},
   "outputs": [
    {
     "name": "stdout",
     "output_type": "stream",
     "text": [
      "Two of Club\n"
     ]
    }
   ],
   "source": [
    "player = Card(suit='Club', order='Two')\n",
    "print(player)"
   ]
  },
  {
   "cell_type": "code",
   "execution_count": 96,
   "metadata": {},
   "outputs": [
    {
     "name": "stdout",
     "output_type": "stream",
     "text": [
      "Available Cards in deck: \n",
      "Two of Daimonds\n",
      "Three of Daimonds\n",
      "Four of Daimonds\n",
      "Five of Daimonds\n",
      "Six of Daimonds\n",
      "Seven of Daimonds\n",
      "Eight of Daimonds\n",
      "Nine of Daimonds\n",
      "Ten of Daimonds\n",
      "Jack of Daimonds\n",
      "Queen of Daimonds\n",
      "King of Daimonds\n",
      "Ace of Daimonds\n",
      "Two of Hearts\n",
      "Three of Hearts\n",
      "Four of Hearts\n",
      "Five of Hearts\n",
      "Six of Hearts\n",
      "Seven of Hearts\n",
      "Eight of Hearts\n",
      "Nine of Hearts\n",
      "Ten of Hearts\n",
      "Jack of Hearts\n",
      "Queen of Hearts\n",
      "King of Hearts\n",
      "Ace of Hearts\n",
      "Two of Spades\n",
      "Three of Spades\n",
      "Four of Spades\n",
      "Five of Spades\n",
      "Six of Spades\n",
      "Seven of Spades\n",
      "Eight of Spades\n",
      "Nine of Spades\n",
      "Ten of Spades\n",
      "Jack of Spades\n",
      "Queen of Spades\n",
      "King of Spades\n",
      "Ace of Spades\n",
      "Two of Clubs\n",
      "Three of Clubs\n",
      "Four of Clubs\n",
      "Five of Clubs\n",
      "Six of Clubs\n",
      "Seven of Clubs\n",
      "Eight of Clubs\n",
      "Nine of Clubs\n",
      "Ten of Clubs\n",
      "Jack of Clubs\n",
      "Queen of Clubs\n",
      "King of Clubs\n",
      "Ace of Clubs\n"
     ]
    }
   ],
   "source": [
    "deck = DeckofCards()\n",
    "print(deck)"
   ]
  },
  {
   "cell_type": "code",
   "execution_count": 97,
   "metadata": {},
   "outputs": [],
   "source": [
    "deck.shuffle()"
   ]
  },
  {
   "cell_type": "code",
   "execution_count": 98,
   "metadata": {},
   "outputs": [
    {
     "name": "stdout",
     "output_type": "stream",
     "text": [
      "Available Cards in deck: \n",
      "Seven of Clubs\n",
      "Three of Clubs\n",
      "Five of Clubs\n",
      "Jack of Clubs\n",
      "Seven of Hearts\n",
      "Seven of Spades\n",
      "Six of Hearts\n",
      "Five of Daimonds\n",
      "Ten of Hearts\n",
      "King of Spades\n",
      "Three of Daimonds\n",
      "Nine of Daimonds\n",
      "Five of Hearts\n",
      "Six of Clubs\n",
      "Jack of Daimonds\n",
      "Three of Spades\n",
      "King of Hearts\n",
      "Two of Spades\n",
      "Eight of Clubs\n",
      "Four of Daimonds\n",
      "Eight of Hearts\n",
      "Two of Daimonds\n",
      "Four of Clubs\n",
      "Six of Spades\n",
      "Two of Clubs\n",
      "Ten of Daimonds\n",
      "Ace of Clubs\n",
      "Nine of Hearts\n",
      "Queen of Clubs\n",
      "Two of Hearts\n",
      "Jack of Spades\n",
      "Eight of Spades\n",
      "Queen of Hearts\n",
      "Ace of Daimonds\n",
      "Four of Spades\n",
      "Queen of Daimonds\n",
      "Three of Hearts\n",
      "King of Clubs\n",
      "Five of Spades\n",
      "Seven of Daimonds\n",
      "Jack of Hearts\n",
      "Nine of Clubs\n",
      "Eight of Daimonds\n",
      "Queen of Spades\n",
      "Nine of Spades\n",
      "Ace of Hearts\n",
      "King of Daimonds\n",
      "Four of Hearts\n",
      "Ace of Spades\n",
      "Ten of Spades\n",
      "Ten of Clubs\n",
      "Six of Daimonds\n"
     ]
    }
   ],
   "source": [
    "print(deck)"
   ]
  },
  {
   "cell_type": "code",
   "execution_count": 99,
   "metadata": {},
   "outputs": [
    {
     "name": "stdout",
     "output_type": "stream",
     "text": [
      "Six of Daimonds\n"
     ]
    }
   ],
   "source": [
    "player_card = deck.deal()\n",
    "print(player_card)"
   ]
  },
  {
   "cell_type": "code",
   "execution_count": 100,
   "metadata": {},
   "outputs": [
    {
     "data": {
      "text/plain": [
       "51"
      ]
     },
     "execution_count": 100,
     "metadata": {},
     "output_type": "execute_result"
    }
   ],
   "source": [
    "len(deck) # Should return 51 after dealing a card"
   ]
  }
 ],
 "metadata": {
  "kernelspec": {
   "display_name": "Python 3",
   "language": "python",
   "name": "python3"
  },
  "language_info": {
   "codemirror_mode": {
    "name": "ipython",
    "version": 3
   },
   "file_extension": ".py",
   "mimetype": "text/x-python",
   "name": "python",
   "nbconvert_exporter": "python",
   "pygments_lexer": "ipython3",
   "version": "3.6.8"
  }
 },
 "nbformat": 4,
 "nbformat_minor": 2
}
